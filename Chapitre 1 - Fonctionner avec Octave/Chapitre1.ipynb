{
 "cells": [
  {
   "cell_type": "markdown",
   "metadata": {},
   "source": [
    "# Chapitre 1 : Premiers pas en MATLAB\n",
    "\n",
    "## 1 : Introduction \n",
    "\n",
    "Pour des soucis de licence, le logiciel qui vous sera enseigné sera Octave, il se comprend et s'utilise de la même manière. Apprendre le langage Octave revient à apprendre le langage Matlab.\n",
    "Ces deux logiciels ont l'immense intérêt de constituer un système  interactif er convivial de calcul numérique ainsi que de visualisation graphique. Tout ce qui vous sera enseigné sera ici sur Matlab sera également valable pour Octave, donc à l'interface graphique près, on peut dire que c'est quasiement pareil.\n",
    "\n",
    "## 2 : Démarrage\n",
    "\n",
    "Contrairement à Octave il est possible de démarrer Matlab depuis l'invité de commande en tappant la commande \"matlab\". Cette information vous est donc inutile pour ce tutoriel mais ne l'oubliez pas car elle vous sera utile en salle de TP.\n",
    "Une fois sur le logiciel (que ce soit Matlab ou Octave) vous pouvez le quitter avec la commande \"quit\". Cette information neus est également pas très utile car vous passez par Jupyter pour accéder à Octave. Quitter Octave revient alors seulement à redémarrer son noyau dans Jupyter."
   ]
  },
  {
   "cell_type": "code",
   "execution_count": 18,
   "metadata": {},
   "outputs": [
    {
     "name": "stdout",
     "output_type": "stream",
     "text": [
      "Restarting kernel...\n",
      "Done!\n"
     ]
    }
   ],
   "source": [
    "quit"
   ]
  },
  {
   "cell_type": "markdown",
   "metadata": {},
   "source": [
    "Si vous voulez tester vous même des commandes pendant que vous suivez ce cours, n'hésitez pas à insrér des cellules sur cette page Jupyter. Une fois que vous l'avez ouvert sur votre naviguateur vous pouvez en faire ce que vous voulez !"
   ]
  },
  {
   "cell_type": "markdown",
   "metadata": {},
   "source": [
    "## 3 : Les commandes de survie\n",
    "\n",
    "Jusque là, les commandes enseignées ne sont pas forcément super utiles pour le tutoriel. Pour toutes les autres commandes, il va falloir apprendre à quoi elles help imreadservent. Pour se faire la commande \"help\" sera votre meilleur amie. Tapez \"help\" suivi du nom de la commande pour mieux comprendre cette dernière. Voici un example:"
   ]
  },
  {
   "cell_type": "code",
   "execution_count": 19,
   "metadata": {},
   "outputs": [
    {
     "name": "stdout",
     "output_type": "stream",
     "text": [
      "'imread' is a function from the file C:\\Octave\\Octave-4.4.1\\share\\octave\\4.4.1\\m\\image\\imread.m\n",
      "\n",
      " -- [IMG, MAP, ALPHA] = imread (FILENAME)\n",
      " -- [...] = imread (URL)\n",
      " -- [...] = imread (..., EXT)\n",
      " -- [...] = imread (..., IDX)\n",
      " -- [...] = imread (..., PARAM1, VALUE1, ...)\n",
      "     Read images from various file formats.\n",
      "\n",
      "     Read an image as a matrix from the file FILENAME or from the online\n",
      "     resource URL.  If neither is given, but EXT was specified, look for\n",
      "     a file with the extension EXT.\n",
      "\n",
      "     The size and class of the output depends on the format of the\n",
      "     image.  A color image is returned as an MxNx3 matrix.  Grayscale\n",
      "     and black-and-white images are of size MxN.  Multipage images will\n",
      "     have an additional 4th dimension.\n",
      "\n",
      "     The bit depth of the image determines the class of the output:\n",
      "     \"uint8\", \"uint16\", or \"single\" for grayscale and color, and\n",
      "     \"logical\" for black-and-white.  Note that indexed images always\n",
      "     return the indexes for a colormap, independent of whether MAP is a\n",
      "     requested output.  To obtain the actual RGB image, use 'ind2rgb'.\n",
      "     When more than one indexed image is being read, MAP is obtained\n",
      "     from the first.  In some rare cases this may be incorrect and\n",
      "     'imfinfo' can be used to obtain the colormap of each image.\n",
      "\n",
      "     See the Octave manual for more information in representing images.\n",
      "\n",
      "     Some file formats, such as TIFF and GIF, are able to store multiple\n",
      "     images in a single file.  IDX can be a scalar or vector specifying\n",
      "     the index of the images to read.  By default, Octave will read only\n",
      "     the first page.\n",
      "\n",
      "     Depending on the file format, it is possible to configure the\n",
      "     reading of images with PARAMETER, VALUE pairs.  The following\n",
      "     options are supported:\n",
      "\n",
      "     \"Frames\" or \"Index\"\n",
      "          This is an alternative method to specify IDX.  When specifying\n",
      "          it in this way, its value can also be the string \"all\".\n",
      "\n",
      "     \"Info\"\n",
      "          This option exists for MATLAB compatibility, but has no\n",
      "          effect.  For maximum performance when reading multiple images\n",
      "          from a single file, use the \"Index\" option.\n",
      "\n",
      "     \"PixelRegion\"\n",
      "          Controls the image region that is read.  The value must be a\n",
      "          cell array with two arrays of 3 elements '{[ROWS], [COLS]}'.\n",
      "          The elements in the array are the start, increment, and end\n",
      "          pixel to be read.  If the increment value is omitted it\n",
      "          defaults to 1.  For example, the following are all equivalent:\n",
      "\n",
      "               imread (filename, \"PixelRegion\", {[200 600], [300 700]});\n",
      "               imread (filename, \"PixelRegion\", {[200 1 600], [300 1 700]});\n",
      "               imread (filename)(200:600, 300:700);\n",
      "\n",
      "     See also: imwrite, imfinfo, imformats.\n",
      "\n",
      "Additional help for built-in functions and operators is\n",
      "available in the online version of the manual.  Use the command\n",
      "'doc <topic>' to search the manual index.\n",
      "\n",
      "Help and information about Octave is also available on the WWW\n",
      "at https://www.octave.org and via the help@octave.org\n",
      "mailing list.\n"
     ]
    }
   ],
   "source": [
    "help imread"
   ]
  },
  {
   "cell_type": "markdown",
   "metadata": {},
   "source": [
    "On comprend alors en lisant le résultat de la commande que \"imread\" est une fonction permettant de lire des images. Ce qui peut être pratique lorsque vous aurez envie de traiter des images. On a également accès à plein d'infos sur les paramètres à entrer dans la fonction.\n"
   ]
  },
  {
   "cell_type": "markdown",
   "metadata": {},
   "source": [
    "Autre commande utile lorsque vous vous lancez en Matlab, la commande \"lookfor\" qui permet de chercher des commandes en rapport avec ce que vous cherchez. Par exemple si je cherche une commande pour transposer une matrice voici ce que je dois taper :"
   ]
  },
  {
   "cell_type": "code",
   "execution_count": 20,
   "metadata": {},
   "outputs": [
    {
     "name": "stdout",
     "output_type": "stream",
     "text": [
      "permute             Return the generalized transpose for an N-D array object A.\n",
      "transpose           Return the transpose of X.\n",
      "ctranspose          Return the complex conjugate transpose of X.\n",
      "’                 Matrix transpose operator or string delimiter.\n",
      ".’                Matrix transpose operator.\n",
      "tfqmr               Solve ‘A x = b’ using the Transpose-Tree qmr method, ba\n",
      "                    sed on the cgs.\n"
     ]
    }
   ],
   "source": [
    "lookfor transpose"
   ]
  },
  {
   "cell_type": "markdown",
   "metadata": {},
   "source": [
    "J'observe qu'il existe plusieurs commandes qui font ce travail.\n",
    "On notera qu'un autre moyen de faire et de chercher sur mathwork.com les commandes qu'on souhaite faire. On trouvera en plus des examples d'utilisation des commandes."
   ]
  },
  {
   "cell_type": "markdown",
   "metadata": {},
   "source": [
    "Quelques autres commandes peuvent vous être utiles si vous êtes un peu perdus dans votre code.\n",
    "La commande 'whos' vous indique quelles sont les variables dans votre environnement actuel. Voici un petit exemple:"
   ]
  },
  {
   "cell_type": "code",
   "execution_count": 29,
   "metadata": {},
   "outputs": [
    {
     "name": "stdout",
     "output_type": "stream",
     "text": [
      "Variables in the current scope:\n",
      "\n",
      "   Attr Name         Size                     Bytes  Class\n",
      "   ==== ====         ====                     =====  ===== \n",
      "        Matrice      2x2                         32  double\n",
      "        mot          1x25                        25  char\n",
      "        nombre       1x1                          8  double\n",
      "        tableau      1x3                         24  double\n",
      "\n",
      "Total is 33 elements using 89 bytes\n",
      "\n"
     ]
    }
   ],
   "source": [
    "tableau = [1 2 3];\n",
    "Matrice = [1 2 ; 3 4];\n",
    "mot ='anticonstitutionnelemment';\n",
    "nombre = 42;\n",
    "whos"
   ]
  },
  {
   "cell_type": "markdown",
   "metadata": {},
   "source": [
    "Si vous voulez détruire une variable. Utilisez la commande 'clear' :"
   ]
  },
  {
   "cell_type": "code",
   "execution_count": 28,
   "metadata": {},
   "outputs": [
    {
     "name": "stdout",
     "output_type": "stream",
     "text": [
      "Variables in the current scope:\n",
      "\n",
      "   Attr Name         Size                     Bytes  Class\n",
      "   ==== ====         ====                     =====  ===== \n",
      "        A            3x4                         96  double\n",
      "        Depense      1x1                          8  double\n",
      "        Matrice      2x2                         32  double\n",
      "        a            1x2                         16  double\n",
      "        ans          1x12                        96  double\n",
      "        b            1x3                         24  double\n",
      "        nombre       1x1                          8  double\n",
      "        recette      1x1                          8  double\n",
      "        tableau      1x3                         24  double\n",
      "\n",
      "Total is 39 elements using 312 bytes\n",
      "\n"
     ]
    }
   ],
   "source": [
    "clear mot\n",
    "whos"
   ]
  },
  {
   "cell_type": "markdown",
   "metadata": {},
   "source": [
    "Si vous voulez détruire toutes vos varibles utilisez 'clear all'."
   ]
  },
  {
   "cell_type": "markdown",
   "metadata": {},
   "source": [
    "## 4 : Se débrouiller face aux erreurs.\n",
    "\n",
    "Dès que vous allez vous commencer à coder, vous allez rapidement être confrontés à des messages d'erreurs. Nous allons voire comment gérer chaque type d'erreur ensemble.\n",
    "\n",
    "### 4.1 : undefined\n",
    "\n",
    "Lorsque vous faîtes appel à une fonction, une variable ou à quoique ce soit que Octave ou Matlab ne connaît pas, vous allez recoir un message d'erreur.\n",
    "En général, cela arrive si vous orthographiez mal vos variables ou vos fonctions.\n",
    "Voici un petit exemple de mauvaise orthographe qui cause un 'erreur undefined'."
   ]
  },
  {
   "cell_type": "code",
   "execution_count": 21,
   "metadata": {
    "scrolled": true
   },
   "outputs": [
    {
     "name": "stdout",
     "output_type": "stream",
     "text": [
      "Depense =  5\n",
      "recette =  3\n",
      "error: 'depense' undefined near line 1 column 29\n"
     ]
    }
   ],
   "source": [
    "Depense = 5\n",
    "recette =3\n",
    "ChiffreDAffaire = recette - depense\n"
   ]
  },
  {
   "cell_type": "markdown",
   "metadata": {},
   "source": [
    "Il fallait faire attention à la majuscule. Essayer vous même dans une cellule !\n",
    "Au passage, si vous ne voulez pas afficher les opérations que vous faites (pour plus de clarté et plus de rapidité), utiliser le \";\" à la fin de la commande.\n",
    "\n",
    "\n",
    "### 4.2 : nonconformant argument / Matrix dimension must agree\n",
    "\n",
    "Lorsque vous utilisez un opérateur mathématiques, si vous essayez de faire des opérations mathématiques illégales, ils est probable que Octave vous empêche de le faire en vous envoyant un message d'erreur. \n",
    "Par exemple si vous souhaitez faire des opérations avec deux matrices de taille incompatible."
   ]
  },
  {
   "cell_type": "code",
   "execution_count": 22,
   "metadata": {},
   "outputs": [
    {
     "name": "stdout",
     "output_type": "stream",
     "text": [
      "error: operator +: nonconformant arguments (op1 is 1x2, op2 is 1x3)\n",
      "error: operator -: nonconformant arguments (op1 is 1x2, op2 is 1x3)\n",
      "error: operator *: nonconformant arguments (op1 is 1x2, op2 is 1x3)\n",
      "error: product: nonconformant arguments (op1 is 1x2, op2 is 1x3)\n"
     ]
    }
   ],
   "source": [
    "a= [10.3 12];\n",
    "b= [14 -117 1/3];\n",
    "a+b\n",
    "a-b\n",
    "a*b\n",
    "a.*b"
   ]
  },
  {
   "cell_type": "markdown",
   "metadata": {},
   "source": [
    "Notez que '*' désigne la multiplication matricielle tandis que '.*' désigne la multiplication terme à terme.\n",
    "Octave est bien gentil de vous donner les tailles de vos matrices. Matlab quand à lui vous répondre uniquement 'Matrix dimension must agree'\n",
    "\n",
    "### 4.3 : invalid call\n",
    "\n",
    "Lorsque vous utilisez une fonction Octave ou Matlab, vous devez être attentif aux arguments d'entrée de la fonction. Si vous ne mettez pas le bon nombre d'arguments, la fonction ne pourra pas s'exucuter.\n",
    "\n",
    "Prenons par exemple la fonction 'reshape' qui change la taille des matrices. Cette fonction a  besoin d'au moins deux arguments, un pour la matrice à redimensionner et au moins un autre pour la dimension voulue (vous pouvez trouver ces informations grâce à la commande 'help reshape')."
   ]
  },
  {
   "cell_type": "code",
   "execution_count": 23,
   "metadata": {},
   "outputs": [
    {
     "name": "stdout",
     "output_type": "stream",
     "text": [
      "A =\n",
      "\n",
      "   0.17090   0.87492   0.91983   0.13855\n",
      "   0.11522   0.50182   0.51546   0.88244\n",
      "   0.22128   0.56707   0.50735   0.64694\n",
      "\n",
      "error: Invalid call to reshape.  Correct usage is:\n",
      "\n",
      " -- reshape (A, M, N, ...)\n",
      " -- reshape (A, [M N ...])\n",
      " -- reshape (A, ..., [], ...)\n",
      " -- reshape (A, SIZE)\n",
      "\n",
      "Additional help for built-in functions and operators is\n",
      "available in the online version of the manual.  Use the command\n",
      "'doc <topic>' to search the manual index.\n",
      "\n",
      "Help and information about Octave is also available on the WWW\n",
      "at https://www.octave.org and via the help@octave.org\n",
      "mailing list.\n"
     ]
    }
   ],
   "source": [
    "A = rand(3,4)\n",
    "reshape(A)\n",
    "\n"
   ]
  },
  {
   "cell_type": "markdown",
   "metadata": {},
   "source": [
    "Voici deux exemples d'utilisation correcte de la fonction pour redimensionner la matrice en vecteur ligne.\n"
   ]
  },
  {
   "cell_type": "code",
   "execution_count": 24,
   "metadata": {},
   "outputs": [
    {
     "name": "stdout",
     "output_type": "stream",
     "text": [
      "ans =\n",
      "\n",
      " Columns 1 through 8:\n",
      "\n",
      "   0.17090   0.11522   0.22128   0.87492   0.50182   0.56707   0.91983   0.51546\n",
      "\n",
      " Columns 9 through 12:\n",
      "\n",
      "   0.50735   0.13855   0.88244   0.64694\n",
      "\n",
      "ans =\n",
      "\n",
      " Columns 1 through 8:\n",
      "\n",
      "   0.17090   0.11522   0.22128   0.87492   0.50182   0.56707   0.91983   0.51546\n",
      "\n",
      " Columns 9 through 12:\n",
      "\n",
      "   0.50735   0.13855   0.88244   0.64694\n",
      "\n"
     ]
    }
   ],
   "source": [
    "reshape(A, [1,12])\n",
    "reshape(A, 1, 12)"
   ]
  },
  {
   "cell_type": "markdown",
   "metadata": {},
   "source": [
    "Durant vos aventures sur Octave ou Matlab vous rencontrerez plusieurs autres types d'erreurs spécifiques aux fonctions et applications que vous allez utiliser. Nous avons listé les erreurs les plus courantes mais nous ne pouvons pas tout énuméré.\n",
    "De manière générale lorsque vous êtes confronté à une erreur, identifiez sur quelle ligne de code et demandez-vous si toutes vos fonctions et variables ont bien été définis, si elles ont le bon format, la bonne taille, si vous utilisez les bon paramètres d'entrée de la fonction. N'hésitez pas à faire des tests en ligne de commande sur des opérations simples pour voire d'où peut venir le problème. Enfin n'hésitez pas à chercher sur internet les mots clefs de ce que vous essayez de faire. L'environmment MathWorks.com illustre beaucoup d'exemples qui permettent de bien comprendre le fonctionnement des différentes choses que vous allez utiliser. Enfin si le problème persistent lors d'un TP faites appel à votre encadrant.\n",
    "\n",
    "\n",
    "Si vous avez des questions ou remarques sur cette partie n'hésitez pas à envoyer un mail à pierreantchantal@gmail.com, je me ferais un plaisir de vous répondre."
   ]
  },
  {
   "cell_type": "code",
   "execution_count": null,
   "metadata": {},
   "outputs": [],
   "source": []
  }
 ],
 "metadata": {
  "kernelspec": {
   "display_name": "Octave",
   "language": "octave",
   "name": "octave"
  },
  "language_info": {
   "file_extension": ".m",
   "help_links": [
    {
     "text": "GNU Octave",
     "url": "https://www.gnu.org/software/octave/support.html"
    },
    {
     "text": "Octave Kernel",
     "url": "https://github.com/Calysto/octave_kernel"
    },
    {
     "text": "MetaKernel Magics",
     "url": "https://github.com/calysto/metakernel/blob/master/metakernel/magics/README.md"
    }
   ],
   "mimetype": "text/x-octave",
   "name": "octave",
   "version": "4.4.1"
  }
 },
 "nbformat": 4,
 "nbformat_minor": 2
}
