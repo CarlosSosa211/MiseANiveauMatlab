{
 "cells": [
  {
   "cell_type": "markdown",
   "metadata": {},
   "source": [
    "# Les vecteurs et matrices \n",
    "\n",
    "Si Matlab est l'acronyme de *Matrix Laboratory*, ce n'est pas pour rien (et ce n'est pas un hommage aux films des Wachowski non plus). En effet, il permet de manipuler facilement des tableaux à une ou plusieurs dimensions (ce que nous connaissons sous le nom de vecteurs ou matrices, respectivement). Nous verrons dans ce chapitre comment les définir, accéder à leurs éléments et réaliser les opérations les plus fréquentes avec eux. Nous essayerons d'expliquer les concepts de façon la plus claire possible, adaptée à des débutants dans ce langage, mais pour toute question ou remarque sur les explications de ce chapitre, n'hésitez pas à contacter son auteur Carlos Sosa Marrero (carlos.sosa@univ-rennes1.fr)."
   ]
  },
  {
   "cell_type": "markdown",
   "metadata": {},
   "source": [
    "## Les vecteurs\n",
    "### Définition de vecteurs\n",
    "Il existe plusieurs manières de définir des vecteurs en Matlab. \n",
    "Une première façon consiste à utiliser des crochets `[.]` et lister les valeurs que nous voulons inclure dans notre vecteur séparées par une virgule et/ou un espace. Nous vous montrons un exemple de vecteur ligne de trois éléments."
   ]
  },
  {
   "cell_type": "code",
   "execution_count": 338,
   "metadata": {},
   "outputs": [
    {
     "name": "stdout",
     "output_type": "stream",
     "text": [
      "v =\n",
      "\n",
      "   7  -5   3\n",
      "\n"
     ]
    }
   ],
   "source": [
    "v = [7, -5, 3]"
   ]
  },
  {
   "cell_type": "markdown",
   "metadata": {},
   "source": [
    "Nous pouvons également construire des vecteurs colonne. Pour cela, nous séparons les différentes lignes avec un point-virgule `;` et/ou un retour chariot. "
   ]
  },
  {
   "cell_type": "code",
   "execution_count": 339,
   "metadata": {},
   "outputs": [
    {
     "name": "stdout",
     "output_type": "stream",
     "text": [
      "w =\n",
      "\n",
      "   1\n",
      "   6\n",
      "  -4\n",
      "\n"
     ]
    }
   ],
   "source": [
    "w = [1; 6; -4]"
   ]
  },
  {
   "cell_type": "markdown",
   "metadata": {},
   "source": [
    "Nous pouvons aussi définir des vecteurs ligne à partir de suites arithmétiques. Nous construissons ces suites en tapant `n:p:m`, où `n` est la limite à gauche; `p`, le pas et `m`, la limite à droite. Ainsi, pour construire, par exemple, un vecteur dont les éléments correspondent aux nombres pairs appartenant à [4, 18] en ordre croissant, nous devons taper"
   ]
  },
  {
   "cell_type": "code",
   "execution_count": 340,
   "metadata": {},
   "outputs": [
    {
     "name": "stdout",
     "output_type": "stream",
     "text": [
      "v =\n",
      "\n",
      "    4    6    8   10   12   14   16   18\n",
      "\n"
     ]
    }
   ],
   "source": [
    "v = 4:2:18"
   ]
  },
  {
   "cell_type": "markdown",
   "metadata": {},
   "source": [
    "En indiquant une valeur de `n` plus grande que celle de `m` et un pas négatif, nous pouvons construire une suite décroissante pour définir notre vecteur."
   ]
  },
  {
   "cell_type": "code",
   "execution_count": 341,
   "metadata": {},
   "outputs": [
    {
     "name": "stdout",
     "output_type": "stream",
     "text": [
      "v =\n",
      "\n",
      "   18   16   14   12   10    8    6    4\n",
      "\n"
     ]
    }
   ],
   "source": [
    "v = 18:-2:4"
   ]
  },
  {
   "cell_type": "markdown",
   "metadata": {},
   "source": [
    "Si nous n'indiquons pas la valeur `p` de la suite, Matlab considère un pas unitaire, comme nous pouvons remarquer dans l'exemple suivant."
   ]
  },
  {
   "cell_type": "code",
   "execution_count": 342,
   "metadata": {},
   "outputs": [
    {
     "name": "stdout",
     "output_type": "stream",
     "text": [
      "w =\n",
      "\n",
      "    3    4    5    6    7    8    9   10   11   12\n",
      "\n"
     ]
    }
   ],
   "source": [
    "w = 3:12"
   ]
  },
  {
   "cell_type": "markdown",
   "metadata": {},
   "source": [
    "Il est également possible de définir un vecteur en utilisant la fonction Matlab `linspace(a, b, n)`. Elle renvoie un vecteur ligne composé de  `n` éléments régulièrement espacés de `a`à `b`. Nous vous montrons un exemple d'utilisation de cette fonction."
   ]
  },
  {
   "cell_type": "code",
   "execution_count": 343,
   "metadata": {},
   "outputs": [
    {
     "name": "stdout",
     "output_type": "stream",
     "text": [
      "v =\n",
      "\n",
      " Columns 1 through 8:\n",
      "\n",
      "   0.00000   0.50000   1.00000   1.50000   2.00000   2.50000   3.00000   3.50000\n",
      "\n",
      " Columns 9 through 11:\n",
      "\n",
      "   4.00000   4.50000   5.00000\n",
      "\n"
     ]
    }
   ],
   "source": [
    "v = linspace(0, 5, 11)"
   ]
  },
  {
   "cell_type": "markdown",
   "metadata": {},
   "source": [
    "#### Longueur d'un vecteur\n",
    "La fonction `length(v)` permet d'obtenir la longueur du vecteur `v`."
   ]
  },
  {
   "cell_type": "code",
   "execution_count": 344,
   "metadata": {},
   "outputs": [
    {
     "name": "stdout",
     "output_type": "stream",
     "text": [
      "longueur =  3\n"
     ]
    }
   ],
   "source": [
    "v = [7, -5, 3];\n",
    "longueur = length(v)"
   ]
  },
  {
   "cell_type": "markdown",
   "metadata": {},
   "source": [
    "### Accès aux éléments d'un vecteur\n",
    "L'accès aux éléments d'un vecteur se fait à l'aide de parenthèses `(.)`. Par exemple, pour accéder au deuxième élément du vecteur `u`, il suffit de taper"
   ]
  },
  {
   "cell_type": "code",
   "execution_count": 345,
   "metadata": {},
   "outputs": [
    {
     "name": "stdout",
     "output_type": "stream",
     "text": [
      "u2 = -6\n"
     ]
    }
   ],
   "source": [
    "u = [4, -6, 1, 9, -8];\n",
    "u2 = u(2)"
   ]
  },
  {
   "cell_type": "markdown",
   "metadata": {},
   "source": [
    "Fréquemment, il est nécessaire d'accéder à plusieurs éléments d'un vecteur. Pour cela, nous indiquons les indices du premier et du dernier élément souhaités séparés par deux points `:`. Par exemple, l'accès aux trois premiers éléments du vecteur `u` se fait en tapant "
   ]
  },
  {
   "cell_type": "code",
   "execution_count": 346,
   "metadata": {},
   "outputs": [
    {
     "name": "stdout",
     "output_type": "stream",
     "text": [
      "u1a3 =\n",
      "\n",
      "   4  -6   1\n",
      "\n"
     ]
    }
   ],
   "source": [
    "u = [4, -6, 1, 9, -8];\n",
    "u1a3 = u(1:3)"
   ]
  },
  {
   "cell_type": "markdown",
   "metadata": {},
   "source": [
    "### Opérations avec les vecteurs\n",
    "Matlab permet d'effectuer un grand nombre d'opérations avec les vecteurs. Commençons par les plus basiques.\n",
    "#### Opérations arithmétiques basiques\n",
    "Soient deux vecteurs de la même longueur, nous pouvons calculer leur somme et leur différence comme nous vous montrons dans l'exemple suivant."
   ]
  },
  {
   "cell_type": "code",
   "execution_count": 347,
   "metadata": {
    "scrolled": true
   },
   "outputs": [
    {
     "name": "stdout",
     "output_type": "stream",
     "text": [
      "somme =\n",
      "\n",
      "    1    1   11   13  -13\n",
      "\n",
      "diff =\n",
      "\n",
      "    7  -13   -9    5   -3\n",
      "\n"
     ]
    }
   ],
   "source": [
    "u = [4, -6, 1, 9, -8];\n",
    "v = [-3, 7, 10, 4, -5];\n",
    "somme = u + v\n",
    "diff = u - v"
   ]
  },
  {
   "cell_type": "markdown",
   "metadata": {},
   "source": [
    "La multiplication ou la division d'un vecteur `u` par un scalaire `k` se réalise aussi de façon assez intuitive. Comme vous pouvez vous en douter, il suffit de taper "
   ]
  },
  {
   "cell_type": "code",
   "execution_count": 348,
   "metadata": {
    "scrolled": true
   },
   "outputs": [
    {
     "name": "stdout",
     "output_type": "stream",
     "text": [
      "prodk =\n",
      "\n",
      "    8  -12    2   18  -16\n",
      "\n",
      "divk =\n",
      "\n",
      "   2.00000  -3.00000   0.50000   4.50000  -4.00000\n",
      "\n"
     ]
    }
   ],
   "source": [
    "u = [4, -6, 1, 9, -8];\n",
    "k = 2;\n",
    "prodk = k * u\n",
    "divk = u / k"
   ]
  },
  {
   "cell_type": "markdown",
   "metadata": {},
   "source": [
    "#### Produit scalaire\n",
    "Nous pouvons calculer le produit scalaire de deux vecteurs `u` et `v` à l'aide de la fonction Matlab `dot(u, v)`. Regardons un exemple."
   ]
  },
  {
   "cell_type": "code",
   "execution_count": 349,
   "metadata": {},
   "outputs": [
    {
     "name": "stdout",
     "output_type": "stream",
     "text": [
      "prodScal =  32\n"
     ]
    }
   ],
   "source": [
    "u = [4, -6, 1, 9, -8];\n",
    "v = [-3, 7, 10, 4, -5];\n",
    "prodScal = dot(u, v)"
   ]
  },
  {
   "cell_type": "markdown",
   "metadata": {},
   "source": [
    "#### Opérations terme à terme\n",
    "Soient toujours `u` et `v` deux vecteurs de la même taille, nous pouvons nous intéresser à un vecteur `w` dont l'i-ème élément correspond au produit des i-èmes éléments de `u` et `v`. C'est ce que nous appelons le produit terme à terme et nous pouvons le calculer en ajoutant un point `.` devant l'opérateur produit classique. Nous vous en montrons un exemple.  "
   ]
  },
  {
   "cell_type": "code",
   "execution_count": 350,
   "metadata": {},
   "outputs": [
    {
     "name": "stdout",
     "output_type": "stream",
     "text": [
      "prodTaT =\n",
      "\n",
      "  -12  -42   10   36   40\n",
      "\n"
     ]
    }
   ],
   "source": [
    "u = [4, -6, 1, 9, -8];\n",
    "v = [-3, 7, 10, 4, -5];\n",
    "prodTaT = u .* v"
   ]
  },
  {
   "cell_type": "markdown",
   "metadata": {},
   "source": [
    "De façon analogique, nous pouvons calculer un vecteur résultant de la division terme à terme de `u` entre `v` comme  nous vous montrons dans l'exemple suivant."
   ]
  },
  {
   "cell_type": "code",
   "execution_count": 351,
   "metadata": {},
   "outputs": [
    {
     "name": "stdout",
     "output_type": "stream",
     "text": [
      "divTaT =\n",
      "\n",
      "  -1.33333  -0.85714   0.10000   2.25000   1.60000\n",
      "\n"
     ]
    }
   ],
   "source": [
    "u = [4, -6, 1, 9, -8];\n",
    "v = [-3, 7, 10, 4, -5];\n",
    "divTaT = u ./ v"
   ]
  },
  {
   "cell_type": "markdown",
   "metadata": {},
   "source": [
    "Et comment faudrait-il faire pour obtenir un vecteur `u2` dont l'i-ème élément correspond au carré de l'i-ème élément de `u` ?. Nous sommes sûrs que, arrivés à ce point, vous comprenez que cette opération se réalise de la manière suivante. "
   ]
  },
  {
   "cell_type": "code",
   "execution_count": 352,
   "metadata": {},
   "outputs": [
    {
     "name": "stdout",
     "output_type": "stream",
     "text": [
      "u2 =\n",
      "\n",
      "   16   36    1   81   64\n",
      "\n"
     ]
    }
   ],
   "source": [
    "u = [4, -6, 1, 9, -8];\n",
    "u2 = u .^2"
   ]
  },
  {
   "cell_type": "markdown",
   "metadata": {},
   "source": [
    "#### Transposé d'un vecteur\n",
    "Le transposé d'un vecteur (passage de vecteur ligne à colonne et vice versa) se réalise à l'aide de l'opérateur `'`. Nous vous en montrons un exemple."
   ]
  },
  {
   "cell_type": "code",
   "execution_count": 353,
   "metadata": {},
   "outputs": [
    {
     "name": "stdout",
     "output_type": "stream",
     "text": [
      "ut =\n",
      "\n",
      "   4\n",
      "  -6\n",
      "   1\n",
      "   9\n",
      "  -8\n",
      "\n"
     ]
    }
   ],
   "source": [
    "u = [4, -6, 1, 9, -8];\n",
    "ut = u'"
   ]
  },
  {
   "cell_type": "markdown",
   "metadata": {},
   "source": [
    "#### Concaténation de vecteurs\n",
    "La concaténation de deux vecteurs en Matlab se fait aussi de façon assez simple. Soient deux vecteurs ligne `u` et `v`, nous pouvons construire un troisième vecteur `w` en concaténant `u` et `v`comme nous vous montrons dans l'exemple suivant."
   ]
  },
  {
   "cell_type": "code",
   "execution_count": 354,
   "metadata": {},
   "outputs": [
    {
     "name": "stdout",
     "output_type": "stream",
     "text": [
      "w =\n",
      "\n",
      "    4   -6    1    9   -8   -3    7   10    4   -5\n",
      "\n"
     ]
    }
   ],
   "source": [
    "u = [4, -6, 1, 9, -8];\n",
    "v = [-3, 7, 10, 4, -5];\n",
    "w = [u, v]"
   ]
  },
  {
   "cell_type": "markdown",
   "metadata": {},
   "source": [
    "En effet, nous pouvons voir cette opération comme si nous construisions le vecteur `w` en listant ses deux éléments (`u` et `v`) entre crochets. Comme les deux sont dans la même ligne, nous les séparons, bien entendu, avec une virgule. En appliquant ce même raisonnement, vous pouvez déduire que la concaténation de deux vecteurs colonne se réalise de la façon suivante."
   ]
  },
  {
   "cell_type": "code",
   "execution_count": 355,
   "metadata": {},
   "outputs": [
    {
     "name": "stdout",
     "output_type": "stream",
     "text": [
      "w =\n",
      "\n",
      "    4\n",
      "   -6\n",
      "    1\n",
      "    9\n",
      "   -8\n",
      "   -3\n",
      "    7\n",
      "   10\n",
      "    4\n",
      "   -5\n",
      "\n"
     ]
    }
   ],
   "source": [
    "u = [4; -6; 1; 9; -8];\n",
    "v = [-3; 7; 10; 4; -5];\n",
    "w = [u; v]"
   ]
  },
  {
   "cell_type": "markdown",
   "metadata": {},
   "source": [
    "Nous avons fréquemment besoin d'ajouter un dernier élément `a` à un vecteur déjà créé `u`. Nous pouvons voir cette opération comme l'affectation à `u` de la concaténation entre sa valeur précédente et `a`. C'est-à-dire,"
   ]
  },
  {
   "cell_type": "code",
   "execution_count": 356,
   "metadata": {},
   "outputs": [
    {
     "name": "stdout",
     "output_type": "stream",
     "text": [
      "u =\n",
      "\n",
      "   4  -6   1   9  -8   2\n",
      "\n"
     ]
    }
   ],
   "source": [
    "u = [4, -6, 1, 9, -8];\n",
    "a = 2;\n",
    "u = [u, a]"
   ]
  },
  {
   "cell_type": "markdown",
   "metadata": {},
   "source": [
    "## Les matrices\n",
    "### Définition de matrices\n",
    "Maintenant que vous comprenez comment définir des vecteurs ligne ou colonne, la façon de déclarer une matrice en Matlab ne devrait pas vous poser trop de problèmes. Vous savez que les éléments d'un vecteur ligne sont séparés par une virgule et/ou un espace et que nous indiquons avec un point-virgule et/ou un retour chariot les transitions entre les différentes lignes d'un vecteur colonne. Et bien, avec ces deux règles en tête, nous sommes certains qu'il vous semble cohérent qu'une matrice  3 x 2 `A` soit définie de la manière suivante"
   ]
  },
  {
   "cell_type": "code",
   "execution_count": 357,
   "metadata": {},
   "outputs": [
    {
     "name": "stdout",
     "output_type": "stream",
     "text": [
      "A =\n",
      "\n",
      "   3   6\n",
      "   7  -4\n",
      "  -1   5\n",
      "\n"
     ]
    }
   ],
   "source": [
    "A = [3, 6;\n",
    "    7, -4;\n",
    "    -1, 5]"
   ]
  },
  {
   "cell_type": "markdown",
   "metadata": {},
   "source": [
    "En fait, comme vous l'avez peut-être déjà remarqué, Matlab considère les vecteurs comme un cas particulier d'une matrice avec une seule ligne ou colonne. "
   ]
  },
  {
   "cell_type": "markdown",
   "metadata": {},
   "source": [
    "#### Quelques fonctions utiles\n",
    "Définir de petites matrices avec des crochets en listant tous leurs éléments c'est pratique, mais cette tache devient fatigante lorsque nous augmentons la taille de notre problème. Pensons, par exemple, à définir une matrice 100 x 200 dont tous les éléments sont égaux à zéro. Appuyer 20 000 fois sur la touche 0 du clavier semble une tâche assez répétitive. Heureusement, nous ne sommes pas les premiers à être confrontés à ce problème et Matlab en a déjà prévu une solution. Il s'agit de la fonction `zeros(m, n)`, qui définit une matrice de zéros de `m` lignes et `n` colonnes. Nous vous montrons deux exemples de l'utilisation de cette fonction. Amusez-vous à enlever le point-virgule du deuxième pour voir quelques zéros apparaître sur votre écran."
   ]
  },
  {
   "cell_type": "code",
   "execution_count": 358,
   "metadata": {},
   "outputs": [
    {
     "name": "stdout",
     "output_type": "stream",
     "text": [
      "A =\n",
      "\n",
      "   0   0   0\n",
      "   0   0   0\n",
      "\n"
     ]
    }
   ],
   "source": [
    "A = zeros(2, 3)\n",
    "B = zeros(100, 200);"
   ]
  },
  {
   "cell_type": "markdown",
   "metadata": {},
   "source": [
    "Comme vous pouvez le déduire à partir du titre de la section, `zeros(m, n)` n'est pas la seule fonction que nous allons vous présenter dans ces lignes. Comment créeriez-vous une matrice de taille `m` x `n` dont tous les éléments sont égaux à l'unité ? Si vous avez bien compris le fonctionnement de `zeros(m, n)` et vous avez quelques connaissances basiques de la langue anglaise, vous devriez être capables de déduire que cela se fait à l'aide de la fonction `ones(m, n)` de la manière suivante. "
   ]
  },
  {
   "cell_type": "code",
   "execution_count": 359,
   "metadata": {},
   "outputs": [
    {
     "name": "stdout",
     "output_type": "stream",
     "text": [
      "A =\n",
      "\n",
      "   1   1   1\n",
      "   1   1   1\n",
      "\n"
     ]
    }
   ],
   "source": [
    "A = ones(2, 3)\n",
    "B = ones(100, 200);"
   ]
  },
  {
   "cell_type": "markdown",
   "metadata": {},
   "source": [
    "Nous sommes sûrs que vous appréciez l'utilité de pouvoir créer d'énormes matrices en une seule ligne. Cependant, nous vous accordons que c'est un peu dommage de ne pouvoir créer que des matrices contenant des 0 ou des 1.  Comment définiriez-vous une matrice avec tous ses éléments égaux à, par exemple, 2 ? Et bien, non, la fonction ~~`twos(m, n)`~~ n'existe pas. Mais, ce n'est pas grave. Vous souvenez-vous de la façon dont nous avons multiplié un vecteur par une constante ? Et nous avons aussi dit que Matlab considère les vecteurs comme une matrice d'une seule ligne ou colonne, n'est-ce pas ? Nous vous proposons donc de créer une matrice avec tous ses éléments égaux à 2 de la façon suivante."
   ]
  },
  {
   "cell_type": "code",
   "execution_count": 360,
   "metadata": {},
   "outputs": [
    {
     "name": "stdout",
     "output_type": "stream",
     "text": [
      "A =\n",
      "\n",
      "   2   2   2\n",
      "   2   2   2\n",
      "\n"
     ]
    }
   ],
   "source": [
    "A = 2 * ones(2, 3)\n",
    "B = 2 * ones(100, 200);"
   ]
  },
  {
   "cell_type": "markdown",
   "metadata": {},
   "source": []
  }
 ],
 "metadata": {
  "celltoolbar": "Raw Cell Format",
  "kernelspec": {
   "display_name": "Octave",
   "language": "octave",
   "name": "octave"
  },
  "language_info": {
   "file_extension": ".m",
   "help_links": [
    {
     "text": "GNU Octave",
     "url": "https://www.gnu.org/software/octave/support.html"
    },
    {
     "text": "Octave Kernel",
     "url": "https://github.com/Calysto/octave_kernel"
    },
    {
     "text": "MetaKernel Magics",
     "url": "https://github.com/calysto/metakernel/blob/master/metakernel/magics/README.md"
    }
   ],
   "mimetype": "text/x-octave",
   "name": "octave",
   "version": "4.2.2"
  }
 },
 "nbformat": 4,
 "nbformat_minor": 2
}
