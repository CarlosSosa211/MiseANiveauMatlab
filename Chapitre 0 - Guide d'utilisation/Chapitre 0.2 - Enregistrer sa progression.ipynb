{
 "cells": [
  {
   "cell_type": "markdown",
   "metadata": {},
   "source": [
    "# Enregistrer ses progressions\n",
    "\n",
    "Comme vous l'aurez compris, votre session n'est pas éternelle, ainsi toutes les modifications faites les notebooks ne seront pas sauvegardées ! Pour sauvegarder vos progressions et vos codes, nous vous conseillons de prendre des notes, d'enregistre\n",
    "\n",
    "**Les fonctions en Octave et Matlab sont sauvegardées dans des fichiers avec l'extensions en .m, il en est de même pour les notebooks. Ainsi, pour sauvegarder vos fonctions, retournez sur l'onglet contenant l'ensemble des notebooks. Vous pourrez constater que vos fonctions sont ajoutées au fur et à mesure.  \n",
    "\n",
    "*A MODIFIER : Une chose à savoir, c'est que si vous donnez l'extension '.m' à votre fichier texte, celui-ci pourra être exécuté sur les logiciels Matlab de la faculté ou sur Octave sur votre machine. Ainsi, votre sauvegarde pourra toujours vous être utile et servir d'éventuel compte rendu.* \n",
    "\n",
    "**"
   ]
  }
 ],
 "metadata": {
  "kernelspec": {
   "display_name": "Octave",
   "language": "octave",
   "name": "octave"
  },
  "language_info": {
   "file_extension": ".m",
   "help_links": [
    {
     "text": "GNU Octave",
     "url": "https://www.gnu.org/software/octave/support.html"
    },
    {
     "text": "Octave Kernel",
     "url": "https://github.com/Calysto/octave_kernel"
    },
    {
     "text": "MetaKernel Magics",
     "url": "https://github.com/calysto/metakernel/blob/master/metakernel/magics/README.md"
    }
   ],
   "mimetype": "text/x-octave",
   "name": "octave",
   "version": "4.4.0"
  }
 },
 "nbformat": 4,
 "nbformat_minor": 2
}
