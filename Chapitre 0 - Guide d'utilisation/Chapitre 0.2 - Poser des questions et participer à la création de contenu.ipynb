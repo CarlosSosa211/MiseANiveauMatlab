{
 "cells": [
  {
   "cell_type": "markdown",
   "metadata": {},
   "source": [
    "# Chapitre 0.2 - Poser des questions et participer à la création de contenu\n",
    "\n",
    "La plateforme que vous utilisez à également un côté participatif : vous avez la possibilité de poser des questions aux enseignants qui ont participé à la création du contenu. \n",
    "\n",
    "Pour cela, vous devez vous rendre sur la page GitHub du projet : <https://github.com/paulber/MiseANiveauMatlab>. \n",
    "\n",
    "Pour poser des questions et suggérer des modifications : chaque projet GitHub présente un onglet \"issue\" qui permet à des utilisateurs extérieurs de rédiger des requêtes ou exposer des bugs. Vous pouvez utiliser cet espace pour nous exposer vos suggestions et problèmes (mathématiques, informatiques ou d'utilisation). Si vous souhaitez une réponse plus rapide, vous pouvez également nous contacter par mail.  \n",
    "\n",
    "Pour participer : vous pouvez cloner le projet et rajouter les éléments que vous jugez important pour développer les différents cours. Une fois vos modifications faites sur votre machine, vous devez créer un pull request pour ajouter vos modifications au répertoire principal."
   ]
  },
  {
   "cell_type": "code",
   "execution_count": null,
   "metadata": {},
   "outputs": [],
   "source": []
  }
 ],
 "metadata": {
  "kernelspec": {
   "display_name": "Octave",
   "language": "octave",
   "name": "octave"
  },
  "language_info": {
   "file_extension": ".m",
   "help_links": [
    {
     "text": "GNU Octave",
     "url": "https://www.gnu.org/software/octave/support.html"
    },
    {
     "text": "Octave Kernel",
     "url": "https://github.com/Calysto/octave_kernel"
    },
    {
     "text": "MetaKernel Magics",
     "url": "https://github.com/calysto/metakernel/blob/master/metakernel/magics/README.md"
    }
   ],
   "mimetype": "text/x-octave",
   "name": "octave",
   "version": "4.4.0"
  }
 },
 "nbformat": 4,
 "nbformat_minor": 2
}
