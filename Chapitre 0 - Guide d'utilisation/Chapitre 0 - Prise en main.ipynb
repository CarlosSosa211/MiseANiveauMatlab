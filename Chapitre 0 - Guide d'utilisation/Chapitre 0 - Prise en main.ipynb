{
 "cells": [
  {
   "cell_type": "markdown",
   "metadata": {},
   "source": [
    "# Chapitre 0 - Introduction à Matlab\n",
    "\n",
    "Bonjour, vous vous trouvez actuellement sur la première page de cet ensemble de notebook dédié au rattrapage du cours sur le langage Matlab. Cet ensemble peut être vu comme un \"cahier de vacances\" et ne fera l'objet d'aucun cours officiels. Ainsi, nous profitons de cet espace pour vous expliquer comment vous allez procéder. Chaque chapitre représenté par un notebook présentera des notions essentielles en terme d'informatique pour les mathématiques. Il s'agit plus particulièrement du logiciel Octave, équivalent OpenSource de Matlab, vous pouvez bien entendu l'installer sur votre machine en suivant le lien en [1]. Cependant, comme nous savons que la plupart d'entre vous sont au tout début de leur aventure informatique, nous avons mis en place cette plateforme pour leur faciliter les choses. \n",
    "\n",
    "## Comment ça marche ?\n",
    "\n",
    "\n",
    "Vous avez plusieurs types de fenêtres sur cette page web, certaines comme celle-ci contiennent du texte et d'autres contiennent une console vous permettant d'exécuter du code Octave. Pour exécuter le code présent dans la fenêtre de commande, il vous suffit de cliquer sur l'onglet \"Run\" situer dans la barre des tâches juste au-dessus. \n",
    "\n",
    "![img1](Capture.png \"Option Run dans votre barre de tâche\")\n",
    "\n",
    "Par exemple, essayez d'exécuter le code présent dans la fenêtre suivante :"
   ]
  },
  {
   "cell_type": "code",
   "execution_count": 3,
   "metadata": {},
   "outputs": [
    {
     "name": "stdout",
     "output_type": "stream",
     "text": [
      "ans =  4\n"
     ]
    }
   ],
   "source": [
    "2+2"
   ]
  },
  {
   "cell_type": "markdown",
   "metadata": {},
   "source": [
    "Comme vous pouvez le constater, vous avez un retour console qui dit : \"ans = 4\". Ainsi, vous comprenez que la réponse à votre question est 4. Vous pouvez par ailleurs effectuer des opérations plus compliquées, lancez les lignes de commandes suivantes :"
   ]
  },
  {
   "cell_type": "code",
   "execution_count": 2,
   "metadata": {},
   "outputs": [
    {
     "data": {
      "image/png": "[encoded data removed]",
      "text/plain": [
       "<IPython.core.display.Image object>"
      ]
     },
     "metadata": {},
     "output_type": "display_data"
    }
   ],
   "source": [
    "x = 0:2*pi/100:2*pi;\n",
    "plot(x,sin(x))\n",
    "xlabel('X axis name')\n",
    "ylabel('Y axis name')\n",
    "legend('sinus x')"
   ]
  },
  {
   "cell_type": "markdown",
   "metadata": {},
   "source": [
    "Bien entendu, il vous est possible de modifier n'importe quelles cellules. En cas de problème (effaçage de cellules textes par exemple), il vous suffit juste de recharger la page ou de relançer le lien binder et vous repartez de 0. Cela pose évidemment le problème de la sauvegarde de votre progression."
   ]
  },
  {
   "cell_type": "markdown",
   "metadata": {},
   "source": [
    "## Enregistrer ses progressions\n",
    "\n",
    "Comme vous l'aurez compris, votre session n'est pas éternelle, ainsi toutes les modifications sur cette page ne seront pas sauvegardées ! Pour sauvegarder vos progressions et vos codes, nous vous conseillons de prendre des notes, d'enregistrer vos lignes de commandes dans un fichier texte et de sauvegarder les fonctions à partir de l'écran précédent. Nous verrons ces différents éléments en temps voulu.\n",
    "\n",
    "**NB : Coller ceci dans le chapitre des fonctions \n",
    "Les fonctions en Octave et Matlab sont sauvegardées dans des fichiers avec l'extensions en .m, il en est de même pour les notebooks. Ainsi, pour sauvegarder vos fonctions, retournez sur l'onglet contenant l'ensemble des notebooks. Vous pourrez constater que vos fonctions sont ajoutées au fur et à mesure.  \n",
    "\n",
    "*A MODIFIER : Une chose à savoir, c'est que si vous donnez l'extension '.m' à votre fichier texte, celui-ci pourra être exécuté sur les logiciels Matlab de la faculté ou sur Octave sur votre machine. Ainsi, votre sauvegarde pourra toujours vous être utile et servir d'éventuel compte rendu.* \n",
    "\n",
    "**"
   ]
  },
  {
   "cell_type": "markdown",
   "metadata": {},
   "source": [
    "## Différence Octave Matlab ?\n",
    "\n",
    "Comme nous l'avons mentionner, nous allons vous entraîner sur le langage Octave. Il faut savoir que la différence entre Matlab et Octave est très mince, surtout pour la base du langage. Les seules différences interviendront lorsque vous aurez à prendre en main le Sytem Development Kit de Matlab (l'interface graphique qui fait tourner Matlab), seulement les notions exposées ici peuvent s'appliquer à ces deux langages sans différences."
   ]
  },
  {
   "cell_type": "markdown",
   "metadata": {},
   "source": [
    "En espérant que ce format puisse vous convenir et que vous puissiez progresser tranquillement ! N'hésitez pas à faire remonter les éventuels problèmes, les questions ou des oublis en envoyant un mail à l'adresse suivante : <paul.berraute@univ-rennes1.fr>."
   ]
  }
 ],
 "metadata": {
  "kernelspec": {
   "display_name": "Octave",
   "language": "octave",
   "name": "octave"
  },
  "language_info": {
   "file_extension": ".m",
   "help_links": [
    {
     "text": "GNU Octave",
     "url": "https://www.gnu.org/software/octave/support.html"
    },
    {
     "text": "Octave Kernel",
     "url": "https://github.com/Calysto/octave_kernel"
    },
    {
     "text": "MetaKernel Magics",
     "url": "https://github.com/calysto/metakernel/blob/master/metakernel/magics/README.md"
    }
   ],
   "mimetype": "text/x-octave",
   "name": "octave",
   "version": "4.4.1"
  }
 },
 "nbformat": 4,
 "nbformat_minor": 2
}
