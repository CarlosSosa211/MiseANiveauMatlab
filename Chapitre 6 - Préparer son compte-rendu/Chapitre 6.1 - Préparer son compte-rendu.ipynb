{
 "cells": [
  {
   "cell_type": "markdown",
   "metadata": {
    "deletable": false,
    "editable": false,
    "slideshow": {
     "slide_type": "-"
    }
   },
   "source": [
    "# Chapitre 6.1 - Exigence sur le compte rendu\n",
    "\n",
    "\n",
    "Le compte rendu est un document qui a plusieurs rôles : \n",
    "\n",
    "- Évaluer votre investissement lors des séances de travaux Pratiques;\n",
    "- Servir de support de révisions pour les examens;\n",
    "- Renforcer l'apprentissage en couplant notions théoriques et pratiques;\n",
    "- S'entraîner pour la rédaction de document scientifique.\n",
    "\n",
    "Les séances de travaux pratiques sont des outils que l'enseignant peut utiliser pour montrer des applications concrètes ou bien des travaux qui sont en cours de recherche. En fonction de votre niveau d'études et du cours, les séances peuvent présenter des techniques mathématiques qui sont soit spécifique à une situation (méthode de résolution de problème inverse par exemple) ou qui peuvent s'utiliser dans des cas plus généraux (méthode de Newton, factorisation LU,...). \n",
    "\n",
    "Vous devez être capable de différencier les cas car le compte rendu n'aura pas la même structure et l'enseignant n'aura pas les mêmes attentes. Lorsqu'un compte rendu ne contient pas tous les éléments nécessaires, il devient difficile de donner une note à la hauteur du travail fourni. \n",
    "L'autre point négatif survient lorsque vous souhaitez utiliser la méthode dans un autre cours ou dans la vie réelle, mais que vous ne pouvez pas utiliser un travail complet pour vous aider. \n",
    "\n",
    "\n",
    "Nous attendons pour chaque compte rendu des cours CMA1-CMA2 : \n",
    "\n",
    "- L'ensemble des fichiers Matlab commentés dans un fichier compressé (.zip ou .rar);\n",
    "- Un document au format pdf à l'exception du TP2 de CMA1 (sauf si mentionné dans le sujet).\n",
    "\n",
    "Le document pdf est nécessaire pour les séances de plus de 2h. Dans le cas de la séance d'introduction à Matlab, le compte rendu vous sert pour noter les notions que vous jugez importantes à garder sous la main et comme support pour les commentaires que vous avez sur la séance. \n",
    "\n",
    "Généralement, il vous suffira de suivre le sujet pour avoir une structure valable de votre compte rendu. Lorsque l'on demande d'implémenter des fonctions, il serait bon d'avoir un script qui l'appelle et qui ressort les observations faites.\n",
    "\n",
    "Les noms de variables, de scripts et de fonctions doivent avoir du sens au maximum. Ainsi, nous pourrons accepter des variables telles que 'i', 'j' pour des index dans les boucles, mais pas pour les variables importantes.\n",
    "\n",
    "**NB :** Les variables que l'on utilise dans les formules mathématiques comme 'S', 'X', ... peuvent être considérés comme ayant du sens."
   ]
  }
 ],
 "metadata": {
  "kernelspec": {
   "display_name": "Octave",
   "language": "octave",
   "name": "octave"
  },
  "language_info": {
   "file_extension": ".m",
   "help_links": [
    {
     "text": "GNU Octave",
     "url": "https://www.gnu.org/software/octave/support.html"
    },
    {
     "text": "Octave Kernel",
     "url": "https://github.com/Calysto/octave_kernel"
    },
    {
     "text": "MetaKernel Magics",
     "url": "https://github.com/calysto/metakernel/blob/master/metakernel/magics/README.md"
    }
   ],
   "mimetype": "text/x-octave",
   "name": "octave",
   "version": "4.4.1"
  }
 },
 "nbformat": 4,
 "nbformat_minor": 2
}
