{
 "cells": [
  {
   "cell_type": "markdown",
   "metadata": {
    "deletable": false,
    "editable": false
   },
   "source": [
    "# Chapitre 6.3 - Commandes utiles pour organiser son script\n",
    "\n",
    "Certaines commandes peuvent vous être utile pour rendre votre script plus interactif et attractif :\n",
    "\n",
    "- Commande *disp* : pour afficher quelque chose dans la console;\n",
    "- Commande *input* : pour demander à l'utilisateur de saisir quelque chose;\n",
    "- Commande *menu* : pour créer une liste parmie laquelle choisir.\n",
    "\n",
    "L'intérêt de rendre vos réalisations attractives est de montrer à l'enseignant que vous maitrisez complètement votre travail, car vous pouvez l'organiser de manière à ce qu'il n'y ait plus à toucher au code."
   ]
  },
  {
   "cell_type": "code",
   "execution_count": null,
   "metadata": {},
   "outputs": [],
   "source": [
    "% Affichage d un petit texte d introduction\n",
    "disp('Bienvenue dans notre petit jeu')\n",
    "\n",
    "% Definition de l ensemble des possibilites\n",
    "ensemblePossible = [{'Pile'},{'Face'}];\n",
    "\n",
    "% Demande a l utilisateur de choisir\n",
    "choixUtilisateur = menu('Pile ou Face ?',ensemblePossible);\n",
    "\n",
    "% Realisation d un jet de piece equilibre\n",
    "choixDuDestin = rand(1);\n",
    "\n",
    "if choixDuDestin > 0.5\n",
    "    choixDuDestin = 'Face'\n",
    "else\n",
    "    choixDuDestin = 'Pile'\n",
    "end\n",
    "\n",
    "% Affichage du resultat \n",
    "if strcmp(ensemblePossible(choixUtilisateur),choixDuDestin)\n",
    "    disp('Bravo, vous avez gagne');\n",
    "else\n",
    "    disp('Desole, vous avez perdu !');\n",
    "end"
   ]
  },
  {
   "cell_type": "markdown",
   "metadata": {
    "deletable": false,
    "editable": false
   },
   "source": [
    "Il y a un second intérêt pour les étudiants ingénieurs : vous pouvez passer en mode \"recherche\". En effet, certains TPs nécessitent de votre part une réflexion sur les expériences que vous menez (étude de vitesse, résultat de résolution de problèmes inverses,...). Le fait d'avoir un script qui vous demande de saisir plutôt que de modifier le code directement permet de se concentrer d'avantage sur cet aspect recherche. "
   ]
  }
 ],
 "metadata": {
  "kernelspec": {
   "display_name": "Octave",
   "language": "octave",
   "name": "octave"
  },
  "language_info": {
   "file_extension": ".m",
   "help_links": [
    {
     "text": "GNU Octave",
     "url": "https://www.gnu.org/software/octave/support.html"
    },
    {
     "text": "Octave Kernel",
     "url": "https://github.com/Calysto/octave_kernel"
    },
    {
     "text": "MetaKernel Magics",
     "url": "https://github.com/calysto/metakernel/blob/master/metakernel/magics/README.md"
    }
   ],
   "mimetype": "text/x-octave",
   "name": "octave",
   "version": "4.4.1"
  }
 },
 "nbformat": 4,
 "nbformat_minor": 2
}
