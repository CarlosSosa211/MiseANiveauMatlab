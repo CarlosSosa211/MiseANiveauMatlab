{
 "cells": [
  {
   "cell_type": "markdown",
   "metadata": {},
   "source": [
    "# Chapitre 6.3 - Commandes utiles pour script\n",
    "\n",
    "Certaines commandes peuvent vous être utile pour rendre votre script plus interactif :\n",
    "\n",
    "- Commande *disp* : pour afficher quelque chose dans la console\n",
    "- Commande *input* : pour demander à l'utilisateur de saisir quelque chose\n",
    "- Commande *menu* ?\n"
   ]
  },
  {
   "cell_type": "code",
   "execution_count": 8,
   "metadata": {},
   "outputs": [
    {
     "name": "stdout",
     "output_type": "stream",
     "text": [
      "Bienvenue dans notre petit jeu\n",
      "Saisissez soit 'pile', soit 'face' :pile\n",
      "choixUtilisateur = pile\n",
      "choixDuDestin = pile\n",
      "Bravo, vous avez gagne\n"
     ]
    }
   ],
   "source": [
    "disp('Bienvenue dans notre petit jeu')\n",
    "\n",
    "choixUtilisateur ='';\n",
    "\n",
    "while ~strcmp(choixUtilisateur,'pile') && ~strcmp(choixUtilisateur,'face')\n",
    "    choixUtilisateur = input('Saisissez soit ''pile'', soit ''face'' : ','s')\n",
    "\n",
    "    if ~strcmp(choixUtilisateur,'pile') && ~strcmp(choixUtilisateur,'face')\n",
    "        disp('Mauvaise saisie - Priere de recommencer');\n",
    "    end\n",
    "end\n",
    "\n",
    "choixDuDestin = rand(1);\n",
    "\n",
    "if choixDuDestin > 0.5\n",
    "    choixDuDestin = 'face'\n",
    "else\n",
    "    choixDuDestin = 'pile'\n",
    "end\n",
    "\n",
    "if strcmp(choixUtilisateur,choixDuDestin)\n",
    "    disp('Bravo, vous avez gagne');\n",
    "else\n",
    "    disp('Desole, vous avez perdu !');\n",
    "end"
   ]
  },
  {
   "cell_type": "code",
   "execution_count": null,
   "metadata": {},
   "outputs": [],
   "source": []
  }
 ],
 "metadata": {
  "kernelspec": {
   "display_name": "Octave",
   "language": "octave",
   "name": "octave"
  },
  "language_info": {
   "file_extension": ".m",
   "help_links": [
    {
     "text": "GNU Octave",
     "url": "https://www.gnu.org/software/octave/support.html"
    },
    {
     "text": "Octave Kernel",
     "url": "https://github.com/Calysto/octave_kernel"
    },
    {
     "text": "MetaKernel Magics",
     "url": "https://github.com/calysto/metakernel/blob/master/metakernel/magics/README.md"
    }
   ],
   "mimetype": "text/x-octave",
   "name": "octave",
   "version": "4.4.1"
  }
 },
 "nbformat": 4,
 "nbformat_minor": 2
}
